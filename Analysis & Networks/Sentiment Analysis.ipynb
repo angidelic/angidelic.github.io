{
 "cells": [
  {
   "cell_type": "markdown",
   "metadata": {},
   "source": [
    "### 4.2 Exercise: Sentiment Analysis\n",
    "In this exercise, you will do a sentiment analysis of text comments.\n",
    "1. Load the data file DailyComments.csv from the Week 4 Data Files into a data frame.\n",
    "2. Identify a scheme to categorize each comment as positive or negative. You can devise your own scheme or find a commonly used scheme to perform this sentiment analysis. However you decide to do this, make sure to explain the scheme you decide to use.\n",
    "3. Implement your sentiment analysis with code and display the results. Note: DailyComments.csv is a purposely small file, so you will be able to clearly see why the results are what they are.\n",
    "4. For up to 5% extra credit, find another set of comments, e.g., some tweets, and perform the same sentiment analysis.\n"
   ]
  },
  {
   "cell_type": "code",
   "execution_count": 1,
   "metadata": {},
   "outputs": [],
   "source": [
    "from sklearn.feature_extraction.text import CountVectorizer\n",
    "import pandas as pd\n",
    "import numpy as np"
   ]
  },
  {
   "cell_type": "code",
   "execution_count": 2,
   "metadata": {},
   "outputs": [],
   "source": [
    "# Import the file\n",
    "day_comm = pd.read_csv('DailyComments.csv') "
   ]
  },
  {
   "cell_type": "code",
   "execution_count": 3,
   "metadata": {},
   "outputs": [
    {
     "data": {
      "text/plain": [
       "(7, 2)"
      ]
     },
     "execution_count": 3,
     "metadata": {},
     "output_type": "execute_result"
    }
   ],
   "source": [
    "# Need to know what it looks like\n",
    "day_comm.shape"
   ]
  },
  {
   "cell_type": "code",
   "execution_count": 4,
   "metadata": {},
   "outputs": [
    {
     "data": {
      "text/html": [
       "<div>\n",
       "<style scoped>\n",
       "    .dataframe tbody tr th:only-of-type {\n",
       "        vertical-align: middle;\n",
       "    }\n",
       "\n",
       "    .dataframe tbody tr th {\n",
       "        vertical-align: top;\n",
       "    }\n",
       "\n",
       "    .dataframe thead th {\n",
       "        text-align: right;\n",
       "    }\n",
       "</style>\n",
       "<table border=\"1\" class=\"dataframe\">\n",
       "  <thead>\n",
       "    <tr style=\"text-align: right;\">\n",
       "      <th></th>\n",
       "      <th>Day of Week</th>\n",
       "      <th>comments</th>\n",
       "    </tr>\n",
       "  </thead>\n",
       "  <tbody>\n",
       "    <tr>\n",
       "      <th>0</th>\n",
       "      <td>Monday</td>\n",
       "      <td>Hello, how are you?</td>\n",
       "    </tr>\n",
       "    <tr>\n",
       "      <th>1</th>\n",
       "      <td>Tuesday</td>\n",
       "      <td>Today is a good day!</td>\n",
       "    </tr>\n",
       "    <tr>\n",
       "      <th>2</th>\n",
       "      <td>Wednesday</td>\n",
       "      <td>It's my birthday so it's a really special day!</td>\n",
       "    </tr>\n",
       "  </tbody>\n",
       "</table>\n",
       "</div>"
      ],
      "text/plain": [
       "  Day of Week                                        comments\n",
       "0      Monday                             Hello, how are you?\n",
       "1     Tuesday                            Today is a good day!\n",
       "2   Wednesday  It's my birthday so it's a really special day!"
      ]
     },
     "execution_count": 4,
     "metadata": {},
     "output_type": "execute_result"
    }
   ],
   "source": [
    "# See how the data looks\n",
    "day_comm.head(3)"
   ]
  },
  {
   "cell_type": "code",
   "execution_count": 5,
   "metadata": {},
   "outputs": [
    {
     "name": "stdout",
     "output_type": "stream",
     "text": [
      "0                               Hello, how are you?\n",
      "1                              Today is a good day!\n",
      "2    It's my birthday so it's a really special day!\n",
      "3         Today is neither a good day or a bad day!\n",
      "4                             I'm having a bad day.\n",
      "5         There' s nothing special happening today.\n",
      "6                        Today is a SUPER good day!\n",
      "Name: comments, dtype: object\n"
     ]
    }
   ],
   "source": [
    "# Carve out the column I'm interested in (the comments)\n",
    "day_corpus = day_comm['comments']\n",
    "print(day_corpus)"
   ]
  },
  {
   "cell_type": "code",
   "execution_count": 6,
   "metadata": {},
   "outputs": [
    {
     "name": "stdout",
     "output_type": "stream",
     "text": [
      "vectorized words\n",
      "\n",
      "['are', 'bad', 'birthday', 'day', 'good', 'happening', 'having', 'hello', 'how', 'is', 'it', 'my', 'neither', 'nothing', 'or', 'really', 'so', 'special', 'super', 'there', 'today', 'you']\n",
      "\n",
      "Identify Feature Words - Matrix View\n"
     ]
    }
   ],
   "source": [
    "# Create the vector for counting words\n",
    "vectorizer = CountVectorizer()\n",
    "day_corpus_vector = vectorizer.fit_transform(day_corpus)\n",
    "\n",
    "print('vectorized words')\n",
    "print('')\n",
    "\n",
    "# Retrieve the word names\n",
    "print(vectorizer.get_feature_names())\n",
    "print('')\n",
    "\n",
    "print('Identify Feature Words - Matrix View')"
   ]
  },
  {
   "cell_type": "code",
   "execution_count": 7,
   "metadata": {},
   "outputs": [
    {
     "name": "stdout",
     "output_type": "stream",
     "text": [
      "[[1 0 0 0 0 0 0 1 1 0 0 0 0 0 0 0 0 0 0 0 0 1]\n",
      " [0 0 0 1 1 0 0 0 0 1 0 0 0 0 0 0 0 0 0 0 1 0]\n",
      " [0 0 1 1 0 0 0 0 0 0 2 1 0 0 0 1 1 1 0 0 0 0]\n",
      " [0 1 0 2 1 0 0 0 0 1 0 0 1 0 1 0 0 0 0 0 1 0]\n",
      " [0 1 0 1 0 0 1 0 0 0 0 0 0 0 0 0 0 0 0 0 0 0]\n",
      " [0 0 0 0 0 1 0 0 0 0 0 0 0 1 0 0 0 1 0 1 1 0]\n",
      " [0 0 0 1 1 0 0 0 0 1 0 0 0 0 0 0 0 0 1 0 1 0]]\n"
     ]
    }
   ],
   "source": [
    "# Put the words into an array\n",
    "print( day_corpus_vector.toarray())"
   ]
  },
  {
   "cell_type": "code",
   "execution_count": 8,
   "metadata": {},
   "outputs": [
    {
     "data": {
      "text/plain": [
       "(7, 1)"
      ]
     },
     "execution_count": 8,
     "metadata": {},
     "output_type": "execute_result"
    }
   ],
   "source": [
    "# Create dataframe for the original comments column\n",
    "day_corpus_df = pd.DataFrame({'text' : day_corpus})\n",
    "\n",
    "# Check the shape\n",
    "day_corpus_df.shape"
   ]
  },
  {
   "cell_type": "code",
   "execution_count": 9,
   "metadata": {},
   "outputs": [
    {
     "data": {
      "text/html": [
       "<div>\n",
       "<style scoped>\n",
       "    .dataframe tbody tr th:only-of-type {\n",
       "        vertical-align: middle;\n",
       "    }\n",
       "\n",
       "    .dataframe tbody tr th {\n",
       "        vertical-align: top;\n",
       "    }\n",
       "\n",
       "    .dataframe thead th {\n",
       "        text-align: right;\n",
       "    }\n",
       "</style>\n",
       "<table border=\"1\" class=\"dataframe\">\n",
       "  <thead>\n",
       "    <tr style=\"text-align: right;\">\n",
       "      <th></th>\n",
       "      <th>text</th>\n",
       "    </tr>\n",
       "  </thead>\n",
       "  <tbody>\n",
       "    <tr>\n",
       "      <th>0</th>\n",
       "      <td>Hello, how are you?</td>\n",
       "    </tr>\n",
       "    <tr>\n",
       "      <th>1</th>\n",
       "      <td>Today is a good day!</td>\n",
       "    </tr>\n",
       "    <tr>\n",
       "      <th>2</th>\n",
       "      <td>It's my birthday so it's a really special day!</td>\n",
       "    </tr>\n",
       "  </tbody>\n",
       "</table>\n",
       "</div>"
      ],
      "text/plain": [
       "                                             text\n",
       "0                             Hello, how are you?\n",
       "1                            Today is a good day!\n",
       "2  It's my birthday so it's a really special day!"
      ]
     },
     "execution_count": 9,
     "metadata": {},
     "output_type": "execute_result"
    }
   ],
   "source": [
    "# Look at the data\n",
    "day_corpus_df.head(3)"
   ]
  },
  {
   "cell_type": "code",
   "execution_count": 11,
   "metadata": {},
   "outputs": [],
   "source": [
    "# Look at the totals for each set of scores\n",
    "day_corpus_df['positive1'] = day_corpus_df.text.str.count('good')\n",
    "day_corpus_df['positive2']= day_corpus_df.text.str.count('special')\n",
    "day_corpus_df['negative'] = day_corpus_df.text.str.count('bad')\n",
    "day_corpus_df['totalScore'] = day_corpus_df.positive1 + day_corpus_df.positive2 - day_corpus_df.negative"
   ]
  },
  {
   "cell_type": "code",
   "execution_count": 16,
   "metadata": {},
   "outputs": [
    {
     "name": "stdout",
     "output_type": "stream",
     "text": [
      "Positive1 Score Total:  3\n",
      "\n",
      "Positive2 Score Total:  2\n",
      "\n",
      "Negative Score Total:  2\n",
      "\n",
      "Total Score:  3\n"
     ]
    }
   ],
   "source": [
    "# Look at the totals for each set of scores\n",
    "print('Positive1 Score Total: ', sum(day_corpus_df['positive1']))\n",
    "print(\"\")\n",
    "print('Positive2 Score Total: ', sum(day_corpus_df['positive2']))\n",
    "print(\"\")\n",
    "print('Negative Score Total: ', sum(day_corpus_df['negative']))\n",
    "print(\"\")\n",
    "print('Total Score: ', sum(day_corpus_df['totalScore']))\n"
   ]
  },
  {
   "cell_type": "code",
   "execution_count": 15,
   "metadata": {},
   "outputs": [
    {
     "name": "stdout",
     "output_type": "stream",
     "text": [
      "                                             text  positive1  positive2  \\\n",
      "0                             Hello, how are you?          0          0   \n",
      "1                            Today is a good day!          1          0   \n",
      "2  It's my birthday so it's a really special day!          0          1   \n",
      "3       Today is neither a good day or a bad day!          1          0   \n",
      "4                           I'm having a bad day.          0          0   \n",
      "5       There' s nothing special happening today.          0          1   \n",
      "6                      Today is a SUPER good day!          1          0   \n",
      "\n",
      "   negative  totalScore  \n",
      "0         0           0  \n",
      "1         0           1  \n",
      "2         0           1  \n",
      "3         1           0  \n",
      "4         1          -1  \n",
      "5         0           1  \n",
      "6         0           1  \n"
     ]
    }
   ],
   "source": [
    "print(day_corpus_df)"
   ]
  },
  {
   "cell_type": "code",
   "execution_count": 12,
   "metadata": {},
   "outputs": [
    {
     "name": "stdout",
     "output_type": "stream",
     "text": [
      "Overall Score:   3\n"
     ]
    }
   ],
   "source": [
    "day_z = sum(day_corpus_df['totalScore'])\n",
    "print('Overall Score:  ',day_z)"
   ]
  },
  {
   "cell_type": "markdown",
   "metadata": {},
   "source": [
    "#### Score Results:\n",
    "The overall score is 3, which I would consider as gernally positive.  The total positive score was 5 and the negative score was 2.  This leaves us with 3.  Positive"
   ]
  },
  {
   "cell_type": "code",
   "execution_count": null,
   "metadata": {},
   "outputs": [],
   "source": []
  },
  {
   "cell_type": "code",
   "execution_count": null,
   "metadata": {},
   "outputs": [],
   "source": []
  }
 ],
 "metadata": {
  "kernelspec": {
   "display_name": "Python 3",
   "language": "python",
   "name": "python3"
  },
  "language_info": {
   "codemirror_mode": {
    "name": "ipython",
    "version": 3
   },
   "file_extension": ".py",
   "mimetype": "text/x-python",
   "name": "python",
   "nbconvert_exporter": "python",
   "pygments_lexer": "ipython3",
   "version": "3.8.5"
  }
 },
 "nbformat": 4,
 "nbformat_minor": 4
}
